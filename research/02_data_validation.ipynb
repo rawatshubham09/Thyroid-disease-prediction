{
 "cells": [
  {
   "cell_type": "code",
   "execution_count": 1,
   "metadata": {},
   "outputs": [
    {
     "data": {
      "text/plain": [
       "'d:\\\\DataScience\\\\Thyroid-disease-prediction'"
      ]
     },
     "execution_count": 1,
     "metadata": {},
     "output_type": "execute_result"
    }
   ],
   "source": [
    "import os\n",
    "os.chdir(\"../\")\n",
    "%pwd"
   ]
  },
  {
   "cell_type": "code",
   "execution_count": 63,
   "metadata": {},
   "outputs": [],
   "source": [
    "# Preparing Data Entity\n",
    "from dataclasses import dataclass\n",
    "from pathlib import Path\n",
    "\n",
    "@dataclass(frozen=True)\n",
    "class DataValidationConfig:\n",
    "    root_dir : Path\n",
    "    SATUTS_FILE: str\n",
    "    unzip_data_dir: Path\n",
    "    all_schema: dict"
   ]
  },
  {
   "cell_type": "code",
   "execution_count": 64,
   "metadata": {},
   "outputs": [],
   "source": [
    "#preparing Configuration\n",
    "from Thyroid_Disease.constants import *\n",
    "from Thyroid_Disease.utils.common import read_yaml,create_directories"
   ]
  },
  {
   "cell_type": "code",
   "execution_count": 70,
   "metadata": {},
   "outputs": [],
   "source": [
    "class ConfigurationManager:\n",
    "    def __init__(\n",
    "            self,\n",
    "            config_filepath = CONFIG_FILE_PATH,\n",
    "            params_filepath = PARAMS_FILE_PATH,\n",
    "            schema_filepath = SCHEMA_FILE_PATH ):\n",
    "        self.config = read_yaml(config_filepath)\n",
    "        self.params = read_yaml(params_filepath)\n",
    "        self.schema = read_yaml(schema_filepath)\n",
    "\n",
    "        create_directories([self.config.artifacts_root])\n",
    "\n",
    "    def get_data_validation_config(self) -> DataValidationConfig:\n",
    "        config = self.config.data_validation\n",
    "        schema = self.schema.COLUMNS\n",
    "\n",
    "        data_validtion_config = DataValidationConfig(\n",
    "            root_dir=config.root_dir,\n",
    "            SATUTS_FILE= config.STATUS_FILE,\n",
    "            unzip_data_dir= config.unzip_data_dir,\n",
    "            all_schema = schema,\n",
    "        )\n",
    "        create_directories([config.root_dir])\n",
    "\n",
    "        return data_validtion_config\n"
   ]
  },
  {
   "cell_type": "code",
   "execution_count": 66,
   "metadata": {},
   "outputs": [],
   "source": [
    "# Ceating Components\n",
    "import os\n",
    "from Thyroid_Disease import logger\n",
    "import pandas as pd"
   ]
  },
  {
   "cell_type": "code",
   "execution_count": 75,
   "metadata": {},
   "outputs": [],
   "source": [
    "class DataValidation:\n",
    "    def __init__(self, config: DataValidationConfig): self.config = config\n",
    "    \n",
    "    def validate_all_columns(self) -> bool:\n",
    "        try:\n",
    "            validation_status = None\n",
    "\n",
    "            data = pd.read_csv(self.config.unzip_data_dir)\n",
    "            all_cols = list(data.columns)\n",
    "\n",
    "            all_schema = self.config.all_schema.keys()\n",
    "\n",
    "            for col in all_cols:\n",
    "                if col not in all_schema:\n",
    "                    validation_status = False\n",
    "                else:\n",
    "                    validation_status = True\n",
    "\n",
    "                with open(self.config.SATUTS_FILE, \"w\") as f:\n",
    "                        f.write(f\"Validation status: {validation_status}\")\n",
    "                         \n",
    "            return validation_status\n",
    "        except Exception as e:\n",
    "            raise e"
   ]
  },
  {
   "cell_type": "code",
   "execution_count": 76,
   "metadata": {},
   "outputs": [
    {
     "name": "stdout",
     "output_type": "stream",
     "text": [
      "[2024-04-02 07:20:52,972 : INFO : common : yaml file: config\\config.yaml loaded successfully]\n",
      "[2024-04-02 07:20:52,974 : INFO : common : yaml file: params.yaml loaded successfully]\n",
      "[2024-04-02 07:20:52,989 : INFO : common : yaml file: schema.yaml loaded successfully]\n",
      "[2024-04-02 07:20:52,991 : INFO : common : created directory at: artifacts]\n",
      "[2024-04-02 07:20:52,994 : INFO : common : created directory at: artifacts/data_validation]\n"
     ]
    }
   ],
   "source": [
    "# pipeline\n",
    "\n",
    "try:\n",
    "  config = ConfigurationManager()\n",
    "  data_validation_config = config.get_data_validation_config()\n",
    "  data_validation =DataValidation(data_validation_config)  # Pass the config object as an argument\n",
    "  data_validation.validate_all_columns()\n",
    "except Exception as e:\n",
    "  raise e\n"
   ]
  },
  {
   "cell_type": "code",
   "execution_count": null,
   "metadata": {},
   "outputs": [],
   "source": []
  }
 ],
 "metadata": {
  "kernelspec": {
   "display_name": "mlproj",
   "language": "python",
   "name": "python3"
  },
  "language_info": {
   "codemirror_mode": {
    "name": "ipython",
    "version": 3
   },
   "file_extension": ".py",
   "mimetype": "text/x-python",
   "name": "python",
   "nbconvert_exporter": "python",
   "pygments_lexer": "ipython3",
   "version": "3.12.2"
  }
 },
 "nbformat": 4,
 "nbformat_minor": 2
}
