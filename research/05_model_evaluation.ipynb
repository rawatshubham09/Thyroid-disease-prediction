{
 "cells": [
  {
   "cell_type": "code",
   "execution_count": 1,
   "metadata": {},
   "outputs": [
    {
     "data": {
      "text/plain": [
       "'d:\\\\DataScience\\\\Thyroid-disease-prediction'"
      ]
     },
     "execution_count": 1,
     "metadata": {},
     "output_type": "execute_result"
    }
   ],
   "source": [
    "import os\n",
    "os.chdir(\"../\")\n",
    "%pwd"
   ]
  },
  {
   "cell_type": "code",
   "execution_count": 2,
   "metadata": {},
   "outputs": [],
   "source": [
    "# entity\n",
    "from dataclasses import dataclass\n",
    "from pathlib import Path\n",
    "\n",
    "@dataclass(frozen=True)\n",
    "class ModulEvaluationConfig:\n",
    "    root_dit: Path\n",
    "    test_data_path: Path\n",
    "    model_path: Path\n",
    "    all_params: dict\n",
    "    metric_file_name: Path\n",
    "    target_column: str\n",
    "    mlflow_uri: str"
   ]
  },
  {
   "cell_type": "code",
   "execution_count": 3,
   "metadata": {},
   "outputs": [],
   "source": [
    "from Thyroid_Disease.constants import *\n",
    "from Thyroid_Disease.utils.common import read_yaml, create_directories, save_json\n"
   ]
  },
  {
   "cell_type": "code",
   "execution_count": 9,
   "metadata": {},
   "outputs": [],
   "source": [
    "class ConfigurationManager:\n",
    "    def __init__(\n",
    "            self,\n",
    "            config_filepath = CONFIG_FILE_PATH,\n",
    "            params_filepath = PARAMS_FILE_PATH,\n",
    "            schema_filepath = SCHEMA_FILE_PATH ):\n",
    "        self.config = read_yaml(config_filepath)\n",
    "        self.params = read_yaml(params_filepath)\n",
    "        self.schema = read_yaml(schema_filepath)\n",
    "\n",
    "        create_directories([self.config.artifacts_root])\n",
    "\n",
    "    def get_model_evalution_config(self) -> ModulEvaluationConfig:\n",
    "        config = self.config.model_evaluation\n",
    "        params = self.params.XGBClassifier\n",
    "        schema = self.schema.TARGET_COLUMN\n",
    "\n",
    "\n",
    "        create_directories([config.root_dir])\n",
    "\n",
    "        model_evaluation_config = ModulEvaluationConfig(\n",
    "            root_dit=config.root_dir,\n",
    "            test_data_path=config.test_data_path,\n",
    "            model_path=config.model_path,\n",
    "            all_params=params,\n",
    "            metric_file_name=config.metric_file_name,\n",
    "            target_column=schema.name,\n",
    "            mlflow_uri=\"https://dagshub.com/rawatshubham09/Thyroid-disease-prediction.mlflow\",\n",
    "        )\n",
    "\n",
    "        return model_evaluation_config"
   ]
  },
  {
   "cell_type": "code",
   "execution_count": 29,
   "metadata": {},
   "outputs": [],
   "source": [
    "import os\n",
    "import pandas as pd\n",
    "from sklearn.metrics import recall_score, confusion_matrix, f1_score, accuracy_score\n",
    "from urllib.parse import urlparse\n",
    "import mlflow\n",
    "import mlflow.sklearn\n",
    "import numpy as np\n",
    "import joblib"
   ]
  },
  {
   "cell_type": "markdown",
   "metadata": {},
   "source": []
  },
  {
   "cell_type": "code",
   "execution_count": 35,
   "metadata": {},
   "outputs": [],
   "source": [
    "class ModelEvaluation:\n",
    "    def __init__(self, config: ModulEvaluationConfig):\n",
    "        self.config = config\n",
    "\n",
    "    def eval_metrics(self, actual, pred):\n",
    "        recall = recall_score(actual,pred, average=\"weighted\")\n",
    "        #confusion_mat = confusion_matrix(actual, pred)\n",
    "        f1_s = f1_score(actual,pred,average=\"weighted\")\n",
    "        accuracy = accuracy_score(actual,pred)\n",
    "\n",
    "        return recall, f1_s, accuracy\n",
    "    \n",
    "    def log_into_mlflow(self):\n",
    "\n",
    "        test_data = pd.read_csv(self.config.test_data_path)\n",
    "        model = joblib.load(self.config.model_path)\n",
    "\n",
    "        test_x = test_data.drop([self.config.target_column],axis=1)\n",
    "        test_y = test_data[[self.config.target_column]]\n",
    "\n",
    "        mlflow.set_registry_uri(self.config.mlflow_uri)\n",
    "        tracking_url_type_store = urlparse(mlflow.get_tracking_uri()).scheme # https:\n",
    "\n",
    "        with mlflow.start_run():\n",
    "            pred_y = model.predict(test_x)\n",
    "\n",
    "            (recall, f1_sc, accuracy) = self.eval_metrics(test_y, pred_y)\n",
    "\n",
    "            # saving metrics as local\n",
    "            scores = {\"Recall_score\": recall, \"f1_score\": f1_sc, \"Accuracy\":accuracy}\n",
    "            save_json(path=Path(self.config.metric_file_name),data=scores)\n",
    "\n",
    "            mlflow.log_params(self.config.all_params) #XGBParams\n",
    "            mlflow.log_metric(\"Recall_Score\", recall)\n",
    "            mlflow.log_metric(\"F1_Score\",f1_sc)\n",
    "            mlflow.log_metric(\"Accuracy\",accuracy)\n",
    "\n",
    "            if tracking_url_type_store != \"file\":\n",
    "                # check if it is a local directory or not\n",
    "                mlflow.sklearn.log_model(model,\"model\",registered_model_name=\"XGBoost\")\n",
    "            else:\n",
    "                mlflow.sklearn.log_model(model,\"model\")\n",
    "\n",
    "\n",
    "\n"
   ]
  },
  {
   "cell_type": "code",
   "execution_count": 36,
   "metadata": {},
   "outputs": [
    {
     "name": "stdout",
     "output_type": "stream",
     "text": [
      "[2024-04-06 11:58:28,591 : INFO : common : yaml file: config\\config.yaml loaded successfully]\n",
      "[2024-04-06 11:58:28,594 : INFO : common : yaml file: params.yaml loaded successfully]\n",
      "[2024-04-06 11:58:28,596 : INFO : common : yaml file: schema.yaml loaded successfully]\n",
      "[2024-04-06 11:58:28,601 : INFO : common : created directory at: artifacts]\n",
      "[2024-04-06 11:58:28,602 : INFO : common : created directory at: artifacts/model_evaluation]\n",
      "[2024-04-06 11:58:28,742 : INFO : common : json file saved at: artifacts\\model_evaluation\\metrics.json]\n"
     ]
    }
   ],
   "source": [
    "try:\n",
    "    config = ConfigurationManager()\n",
    "    model_evaluation_config = config.get_model_evalution_config()\n",
    "    model_evaluation_config = ModelEvaluation(config=model_evaluation_config)\n",
    "    model_evaluation_config.log_into_mlflow()\n",
    "except Exception as e:\n",
    "    raise e"
   ]
  },
  {
   "cell_type": "code",
   "execution_count": null,
   "metadata": {},
   "outputs": [],
   "source": []
  }
 ],
 "metadata": {
  "kernelspec": {
   "display_name": "mlproj",
   "language": "python",
   "name": "python3"
  },
  "language_info": {
   "codemirror_mode": {
    "name": "ipython",
    "version": 3
   },
   "file_extension": ".py",
   "mimetype": "text/x-python",
   "name": "python",
   "nbconvert_exporter": "python",
   "pygments_lexer": "ipython3",
   "version": "3.12.2"
  }
 },
 "nbformat": 4,
 "nbformat_minor": 2
}
